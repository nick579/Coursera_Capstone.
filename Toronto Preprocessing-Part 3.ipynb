{
 "cells": [
  {
   "cell_type": "markdown",
   "metadata": {},
   "source": [
    "**Analysizing Etobiocke**"
   ]
  },
  {
   "cell_type": "code",
   "execution_count": 10,
   "metadata": {},
   "outputs": [],
   "source": [
    "from geopy.geocoders import Nominatim\n",
    "import requests\n",
    "from pandas.io.json import json_normalize"
   ]
  },
  {
   "cell_type": "markdown",
   "metadata": {},
   "source": [
    "**Getting Data from Foursquare**"
   ]
  },
  {
   "cell_type": "code",
   "execution_count": 11,
   "metadata": {},
   "outputs": [
    {
     "name": "stderr",
     "output_type": "stream",
     "text": [
      "/Users/nikhil/opt/anaconda3/lib/python3.7/site-packages/ipykernel_launcher.py:4: DeprecationWarning: Using Nominatim with the default \"geopy/1.22.0\" `user_agent` is strongly discouraged, as it violates Nominatim's ToS https://operations.osmfoundation.org/policies/nominatim/ and may possibly cause 403 and 429 HTTP errors. Please specify a custom `user_agent` with `Nominatim(user_agent=\"my-application\")` or by overriding the default `user_agent`: `geopy.geocoders.options.default_user_agent = \"my-application\"`. In geopy 2.0 this will become an exception.\n",
      "  after removing the cwd from sys.path.\n"
     ]
    }
   ],
   "source": [
    "df1 = df[df['Borough'] == 'Etobicoke']\n",
    "version = 20180605\n",
    "\n",
    "locator = Nominatim()\n",
    "location = locator.geocode('Etobicoke,Toronto,Ontario')\n",
    "lat = location.latitude\n",
    "long = location.longitude\n",
    "clientid = 'D5U52LKULW0C51MXLUBQJFEQYWCVIXGXFHY24CTFMHIUKKJY'\n",
    "clientsecret = 'KLQOMKFV1LZGRJGC4TMNU10PNHBJWN51GNSDMLOEKHFGZSLN'\n",
    "url = 'https://api.foursquare.com/v2/venues/explore?&client_id={}&client_secret={}&v={}&ll={},{}&radius={}&limit={}'.format(\n",
    "    clientid,clientsecret,version,lat,long,500,500)\n",
    "results = requests.get(url).json()\n",
    "    \n",
    "\n",
    "\n"
   ]
  },
  {
   "cell_type": "markdown",
   "metadata": {},
   "source": [
    "**Filtering JSON file to create DataFrame**"
   ]
  },
  {
   "cell_type": "code",
   "execution_count": 25,
   "metadata": {},
   "outputs": [
    {
     "name": "stderr",
     "output_type": "stream",
     "text": [
      "/Users/nikhil/opt/anaconda3/lib/python3.7/site-packages/ipykernel_launcher.py:12: FutureWarning: pandas.io.json.json_normalize is deprecated, use pandas.json_normalize instead\n",
      "  if sys.path[0] == '':\n"
     ]
    },
    {
     "data": {
      "text/html": [
       "<div>\n",
       "<style scoped>\n",
       "    .dataframe tbody tr th:only-of-type {\n",
       "        vertical-align: middle;\n",
       "    }\n",
       "\n",
       "    .dataframe tbody tr th {\n",
       "        vertical-align: top;\n",
       "    }\n",
       "\n",
       "    .dataframe thead th {\n",
       "        text-align: right;\n",
       "    }\n",
       "</style>\n",
       "<table border=\"1\" class=\"dataframe\">\n",
       "  <thead>\n",
       "    <tr style=\"text-align: right;\">\n",
       "      <th></th>\n",
       "      <th>name</th>\n",
       "      <th>categories</th>\n",
       "      <th>lat</th>\n",
       "      <th>lng</th>\n",
       "    </tr>\n",
       "  </thead>\n",
       "  <tbody>\n",
       "    <tr>\n",
       "      <th>0</th>\n",
       "      <td>Tim Hortons</td>\n",
       "      <td>Coffee Shop</td>\n",
       "      <td>43.644705</td>\n",
       "      <td>-79.567659</td>\n",
       "    </tr>\n",
       "    <tr>\n",
       "      <th>1</th>\n",
       "      <td>Farmer's Market Etobicoke</td>\n",
       "      <td>Farmers Market</td>\n",
       "      <td>43.643061</td>\n",
       "      <td>-79.566191</td>\n",
       "    </tr>\n",
       "    <tr>\n",
       "      <th>2</th>\n",
       "      <td>Loblaws</td>\n",
       "      <td>Grocery Store</td>\n",
       "      <td>43.643848</td>\n",
       "      <td>-79.560113</td>\n",
       "    </tr>\n",
       "    <tr>\n",
       "      <th>3</th>\n",
       "      <td>State &amp; Main Kitchen &amp; Bar</td>\n",
       "      <td>Restaurant</td>\n",
       "      <td>43.645778</td>\n",
       "      <td>-79.560374</td>\n",
       "    </tr>\n",
       "    <tr>\n",
       "      <th>4</th>\n",
       "      <td>Burnhamthorpe and The West Mall</td>\n",
       "      <td>Intersection</td>\n",
       "      <td>43.644786</td>\n",
       "      <td>-79.567065</td>\n",
       "    </tr>\n",
       "    <tr>\n",
       "      <th>5</th>\n",
       "      <td>West Mall Rink</td>\n",
       "      <td>Skating Rink</td>\n",
       "      <td>43.642138</td>\n",
       "      <td>-79.566218</td>\n",
       "    </tr>\n",
       "    <tr>\n",
       "      <th>6</th>\n",
       "      <td>Joe Fresh</td>\n",
       "      <td>Clothing Store</td>\n",
       "      <td>43.643911</td>\n",
       "      <td>-79.560126</td>\n",
       "    </tr>\n",
       "    <tr>\n",
       "      <th>7</th>\n",
       "      <td>Rabba</td>\n",
       "      <td>Convenience Store</td>\n",
       "      <td>43.647096</td>\n",
       "      <td>-79.563026</td>\n",
       "    </tr>\n",
       "    <tr>\n",
       "      <th>8</th>\n",
       "      <td>Four Seasons Place</td>\n",
       "      <td>Hotel</td>\n",
       "      <td>43.647128</td>\n",
       "      <td>-79.563009</td>\n",
       "    </tr>\n",
       "    <tr>\n",
       "      <th>9</th>\n",
       "      <td>Delimark Cafe</td>\n",
       "      <td>Café</td>\n",
       "      <td>43.647116</td>\n",
       "      <td>-79.562990</td>\n",
       "    </tr>\n",
       "  </tbody>\n",
       "</table>\n",
       "</div>"
      ],
      "text/plain": [
       "                              name         categories        lat        lng\n",
       "0                      Tim Hortons        Coffee Shop  43.644705 -79.567659\n",
       "1        Farmer's Market Etobicoke     Farmers Market  43.643061 -79.566191\n",
       "2                          Loblaws      Grocery Store  43.643848 -79.560113\n",
       "3       State & Main Kitchen & Bar         Restaurant  43.645778 -79.560374\n",
       "4  Burnhamthorpe and The West Mall       Intersection  43.644786 -79.567065\n",
       "5                   West Mall Rink       Skating Rink  43.642138 -79.566218\n",
       "6                        Joe Fresh     Clothing Store  43.643911 -79.560126\n",
       "7                            Rabba  Convenience Store  43.647096 -79.563026\n",
       "8               Four Seasons Place              Hotel  43.647128 -79.563009\n",
       "9                    Delimark Cafe               Café  43.647116 -79.562990"
      ]
     },
     "execution_count": 25,
     "metadata": {},
     "output_type": "execute_result"
    }
   ],
   "source": [
    "def get_category_type(row):\n",
    "    try:\n",
    "        categories_list = row['categories']\n",
    "    except:\n",
    "        categories_list = row['venue.categories']\n",
    "        \n",
    "    if len(categories_list) == 0:\n",
    "        return None\n",
    "    else:\n",
    "        return categories_list[0]['name']\n",
    "venues = results['response']['groups'][0]['items']\n",
    "nearby_venues = json_normalize(venues) # flatten JSON\n",
    "nearby_venues\n",
    "\n",
    "filtered_columns = ['venue.name', 'venue.categories', 'venue.location.lat', 'venue.location.lng']\n",
    "nearby_venues =nearby_venues.loc[:, filtered_columns]\n",
    "\n",
    "nearby_venues['venue.categories'] = nearby_venues.apply(get_category_type, axis=1)\n",
    "\n",
    "nearby_venues.columns = [col.split(\".\")[-1] for col in nearby_venues.columns]\n",
    "\n",
    "nearby_venues"
   ]
  },
  {
   "cell_type": "markdown",
   "metadata": {},
   "source": [
    "**Creating Clusters and Preprocessing Data for fitting**"
   ]
  },
  {
   "cell_type": "code",
   "execution_count": 20,
   "metadata": {},
   "outputs": [],
   "source": [
    "nearby_venues['categories'].value_counts()\n",
    "nearby_venues.drop(columns={'name'},inplace=True)\n",
    "from sklearn.preprocessing import LabelEncoder\n",
    "label = LabelEncoder()\n",
    "nearby_venues['categories'] = label.fit_transform(nearby_venues['categories'])\n",
    "from sklearn.preprocessing import StandardScaler\n",
    "scaler = StandardScaler()\n",
    "nearby_venues = scaler.fit_transform(nearby_venues)"
   ]
  },
  {
   "cell_type": "markdown",
   "metadata": {},
   "source": [
    "**Fitting Dataset to clusters**"
   ]
  },
  {
   "cell_type": "code",
   "execution_count": 21,
   "metadata": {},
   "outputs": [],
   "source": [
    "from sklearn.cluster import KMeans\n",
    "kanalysis = KMeans(n_clusters = 5)\n",
    "kanalysis.fit(nearby_venues)\n",
    "labels = kanalysis.labels_"
   ]
  },
  {
   "cell_type": "code",
   "execution_count": 22,
   "metadata": {},
   "outputs": [
    {
     "name": "stdout",
     "output_type": "stream",
     "text": [
      "[1 1 0 2 1 4 0 3 2 3]\n"
     ]
    }
   ],
   "source": [
    "print(labels)"
   ]
  },
  {
   "cell_type": "code",
   "execution_count": null,
   "metadata": {},
   "outputs": [],
   "source": []
  }
 ],
 "metadata": {
  "kernelspec": {
   "display_name": "Python 3",
   "language": "python",
   "name": "python3"
  },
  "language_info": {
   "codemirror_mode": {
    "name": "ipython",
    "version": 3
   },
   "file_extension": ".py",
   "mimetype": "text/x-python",
   "name": "python",
   "nbconvert_exporter": "python",
   "pygments_lexer": "ipython3",
   "version": "3.7.7"
  }
 },
 "nbformat": 4,
 "nbformat_minor": 4
}
